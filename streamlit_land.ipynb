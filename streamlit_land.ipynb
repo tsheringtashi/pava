{
 "cells": [
  {
   "cell_type": "code",
   "execution_count": 1,
   "id": "9afc7a75",
   "metadata": {},
   "outputs": [],
   "source": [
    "import pandas as pd\n",
    "import numpy as np"
   ]
  },
  {
   "cell_type": "code",
   "execution_count": 2,
   "id": "e85b8bac",
   "metadata": {},
   "outputs": [],
   "source": [
    "df = pd.read_csv(\"D:/LAND RATE/additional_land/final_land.csv\")"
   ]
  },
  {
   "cell_type": "markdown",
   "id": "9a71858b",
   "metadata": {},
   "source": [
    "## Bumthang"
   ]
  },
  {
   "cell_type": "code",
   "execution_count": 57,
   "id": "94cd0192",
   "metadata": {},
   "outputs": [],
   "source": [
    "dfb = pd.read_csv(\"D:/LAND RATE/additional_land/bumthang.csv\")\n",
    "dfb = dfb.iloc[1:-1,1:]"
   ]
  },
  {
   "cell_type": "markdown",
   "id": "5e874984",
   "metadata": {},
   "source": [
    "## Paro"
   ]
  },
  {
   "cell_type": "code",
   "execution_count": 22,
   "id": "2ef62fe4",
   "metadata": {},
   "outputs": [],
   "source": [
    "dfparo = pd.read_csv(\"D:/LAND RATE/additional_land/Paro.csv\")"
   ]
  },
  {
   "cell_type": "markdown",
   "id": "ba5686b1",
   "metadata": {},
   "source": [
    "## HAA"
   ]
  },
  {
   "cell_type": "code",
   "execution_count": 23,
   "id": "a37a3341",
   "metadata": {},
   "outputs": [],
   "source": [
    "\n",
    "df_haa = df.iloc[31:36,:]"
   ]
  },
  {
   "cell_type": "markdown",
   "id": "76756fd2",
   "metadata": {},
   "source": [
    "## Wangdue"
   ]
  },
  {
   "cell_type": "code",
   "execution_count": 24,
   "id": "a100f4de",
   "metadata": {},
   "outputs": [],
   "source": [
    "df_wangdue = df.iloc[:12,:]"
   ]
  },
  {
   "cell_type": "markdown",
   "id": "802f2923",
   "metadata": {},
   "source": [
    "## Punakha"
   ]
  },
  {
   "cell_type": "code",
   "execution_count": 25,
   "id": "0bda3e6e",
   "metadata": {},
   "outputs": [],
   "source": [
    "df_punakha = df.iloc[12:24,:]"
   ]
  },
  {
   "cell_type": "markdown",
   "id": "f2eb2c29",
   "metadata": {},
   "source": [
    "## Trongsa"
   ]
  },
  {
   "cell_type": "code",
   "execution_count": 26,
   "id": "d2785038",
   "metadata": {},
   "outputs": [],
   "source": [
    "df_trongsa = df.iloc[24:36,:]"
   ]
  },
  {
   "cell_type": "markdown",
   "id": "8e3a96db",
   "metadata": {},
   "source": [
    "## Dagana"
   ]
  },
  {
   "cell_type": "code",
   "execution_count": 27,
   "id": "2bf17ced",
   "metadata": {},
   "outputs": [],
   "source": [
    "df_dagana = df.iloc[36:45,:]"
   ]
  },
  {
   "cell_type": "markdown",
   "id": "52fdd81b",
   "metadata": {},
   "source": [
    "## Samtse"
   ]
  },
  {
   "cell_type": "code",
   "execution_count": 28,
   "id": "b2dbb334",
   "metadata": {},
   "outputs": [],
   "source": [
    "df_samtse =df.iloc[45:67,:]"
   ]
  },
  {
   "cell_type": "markdown",
   "id": "7a50ab53",
   "metadata": {},
   "source": [
    "## Sarpang"
   ]
  },
  {
   "cell_type": "code",
   "execution_count": 29,
   "id": "eb44d517",
   "metadata": {},
   "outputs": [],
   "source": [
    "df_sarpang=df.iloc[67:114,:]"
   ]
  },
  {
   "cell_type": "markdown",
   "id": "b934f607",
   "metadata": {},
   "source": [
    "## Zhemgang"
   ]
  },
  {
   "cell_type": "code",
   "execution_count": null,
   "id": "70b123bf",
   "metadata": {},
   "outputs": [],
   "source": [
    "df_zhemgang = df.iloc[114:117,:]"
   ]
  },
  {
   "cell_type": "markdown",
   "id": "b41fbe7e",
   "metadata": {},
   "source": [
    "## Samdrupjongkhar"
   ]
  },
  {
   "cell_type": "code",
   "execution_count": 31,
   "id": "2f8cd028",
   "metadata": {},
   "outputs": [],
   "source": [
    "df_sj =df.iloc[117:139,:]"
   ]
  },
  {
   "cell_type": "markdown",
   "id": "a2bfe889",
   "metadata": {},
   "source": [
    "## Lhuentse"
   ]
  },
  {
   "cell_type": "code",
   "execution_count": 32,
   "id": "bbf07cc7",
   "metadata": {},
   "outputs": [],
   "source": [
    "df_lhuentse = df.iloc[139:143,:]"
   ]
  },
  {
   "cell_type": "markdown",
   "id": "19953bcb",
   "metadata": {},
   "source": [
    "## Tashiyangtse"
   ]
  },
  {
   "cell_type": "code",
   "execution_count": 33,
   "id": "4392f019",
   "metadata": {},
   "outputs": [],
   "source": [
    "df_tyangtse = df.iloc[143:148,:]"
   ]
  },
  {
   "cell_type": "markdown",
   "id": "b417b13f",
   "metadata": {},
   "source": [
    "## Tashigang"
   ]
  },
  {
   "cell_type": "code",
   "execution_count": 34,
   "id": "8226177e",
   "metadata": {},
   "outputs": [],
   "source": [
    "df_tashigang = df.iloc[148:157,:]"
   ]
  },
  {
   "cell_type": "markdown",
   "id": "7a386fc3",
   "metadata": {},
   "source": [
    "## Gasa"
   ]
  },
  {
   "cell_type": "code",
   "execution_count": 35,
   "id": "7699876f",
   "metadata": {},
   "outputs": [],
   "source": [
    "df_gasa = df.iloc[157:,:]"
   ]
  },
  {
   "cell_type": "markdown",
   "id": "01740146",
   "metadata": {},
   "source": [
    "## THIMPHU"
   ]
  },
  {
   "cell_type": "code",
   "execution_count": 54,
   "id": "33ea853c",
   "metadata": {},
   "outputs": [],
   "source": [
    "dftm = pd.read_csv(\"D:/LAND RATE/additional_land/thimphu.csv\")\n",
    "dftm.columns = dftm.columns.str.upper()"
   ]
  },
  {
   "cell_type": "code",
   "execution_count": 55,
   "id": "7a8a827d",
   "metadata": {},
   "outputs": [],
   "source": [
    "dftm_tt=dftm.iloc[:43,:]"
   ]
  },
  {
   "cell_type": "code",
   "execution_count": 40,
   "id": "caa0a315",
   "metadata": {},
   "outputs": [],
   "source": [
    "dftm_out = dftm.iloc[43:83,:]"
   ]
  },
  {
   "cell_type": "code",
   "execution_count": 56,
   "id": "ee272a1e",
   "metadata": {},
   "outputs": [],
   "source": [
    "dftm_debsi = dftm.iloc[83:,:]"
   ]
  },
  {
   "cell_type": "markdown",
   "id": "e10bed0c",
   "metadata": {},
   "source": [
    "## Phuentsholing"
   ]
  },
  {
   "cell_type": "code",
   "execution_count": 42,
   "id": "6afc4934",
   "metadata": {},
   "outputs": [],
   "source": [
    "dfpling = pd.read_csv(\"D:/LAND RATE/additional_land/PLINGST.csv\", skiprows =1)\n",
    "dfpling = dfpling.iloc[:,1:]\n",
    "dfpling.columns = dfpling.columns.str.upper()\n"
   ]
  },
  {
   "cell_type": "code",
   "execution_count": 43,
   "id": "8a9a040d",
   "metadata": {},
   "outputs": [],
   "source": [
    "dfpling.columns = ['LOCATION', ' PRECINCT', 'SPECIFIC AREA', 'BOB_2017_RATE ',\n",
    "       'BOB_2021_RATE', '%DIFFERENCE', 'DERIVED FROM']"
   ]
  },
  {
   "cell_type": "code",
   "execution_count": 44,
   "id": "a02f8ae6",
   "metadata": {},
   "outputs": [],
   "source": [
    "dfpling_town = dfpling.iloc[0:21,:]"
   ]
  },
  {
   "cell_type": "code",
   "execution_count": 45,
   "id": "3a8d2689",
   "metadata": {},
   "outputs": [],
   "source": [
    "dfpling_karbrey = dfpling.iloc[23:27,:]"
   ]
  },
  {
   "cell_type": "code",
   "execution_count": 46,
   "id": "5e9f779e",
   "metadata": {},
   "outputs": [],
   "source": [
    "dfpling_pasakha = dfpling.iloc[35:42,:]"
   ]
  },
  {
   "cell_type": "code",
   "execution_count": 47,
   "id": "81129bdf",
   "metadata": {},
   "outputs": [],
   "source": [
    "dfpling_outskirt = dfpling.iloc[42:,:]"
   ]
  }
 ],
 "metadata": {
  "kernelspec": {
   "display_name": "Python 3",
   "language": "python",
   "name": "python3"
  },
  "language_info": {
   "codemirror_mode": {
    "name": "ipython",
    "version": 3
   },
   "file_extension": ".py",
   "mimetype": "text/x-python",
   "name": "python",
   "nbconvert_exporter": "python",
   "pygments_lexer": "ipython3",
   "version": "3.8.8"
  }
 },
 "nbformat": 4,
 "nbformat_minor": 5
}
